{
  "cells": [
    {
      "cell_type": "markdown",
      "source": [
        "**This Notebook demonstrate how we can use OpenAI to match the clinical trail study with a doctor's note. This is notebook just for demo purpose, not intended to show to customer** "
      ],
      "metadata": {
        "nteract": {
          "transient": {
            "deleting": false
          }
        }
      }
    },
    {
      "cell_type": "code",
      "source": [
        "#Install required python libries \r\n",
        "\r\n",
        "%pip install pytrials jmespath openai langchain redis tiktoken num2words matplotlib plotly scipy scikit-learn pandas"
      ],
      "outputs": [
        {
          "output_type": "stream",
          "name": "stdout",
          "text": "Requirement already satisfied: pytrials in /anaconda/envs/azureml_py310_sdkv2/lib/python3.10/site-packages (0.2.0)\nRequirement already satisfied: jmespath in /anaconda/envs/azureml_py310_sdkv2/lib/python3.10/site-packages (1.0.1)\nRequirement already satisfied: openai in /anaconda/envs/azureml_py310_sdkv2/lib/python3.10/site-packages (0.27.4)\nRequirement already satisfied: langchain in /anaconda/envs/azureml_py310_sdkv2/lib/python3.10/site-packages (0.0.132)\nRequirement already satisfied: redis in /anaconda/envs/azureml_py310_sdkv2/lib/python3.10/site-packages (4.5.4)\nRequirement already satisfied: tiktoken in /anaconda/envs/azureml_py310_sdkv2/lib/python3.10/site-packages (0.3.3)\nCollecting num2words\n  Downloading num2words-0.5.12-py3-none-any.whl (125 kB)\n\u001b[2K     \u001b[90m━━━━━━━━━━━━━━━━━━━━━━━━━━━━━━━━━━━━━━━\u001b[0m \u001b[32m125.2/125.2 kB\u001b[0m \u001b[31m4.6 MB/s\u001b[0m eta \u001b[36m0:00:00\u001b[0m\n\u001b[?25hRequirement already satisfied: matplotlib in /anaconda/envs/azureml_py310_sdkv2/lib/python3.10/site-packages (3.6.3)\nCollecting plotly\n  Downloading plotly-5.14.1-py2.py3-none-any.whl (15.3 MB)\n\u001b[2K     \u001b[90m━━━━━━━━━━━━━━━━━━━━━━━━━━━━━━━━━━━━━━━━\u001b[0m \u001b[32m15.3/15.3 MB\u001b[0m \u001b[31m63.0 MB/s\u001b[0m eta \u001b[36m0:00:00\u001b[0m00:01\u001b[0m00:01\u001b[0m\n\u001b[?25hRequirement already satisfied: scipy in /anaconda/envs/azureml_py310_sdkv2/lib/python3.10/site-packages (1.10.0)\nRequirement already satisfied: scikit-learn in /anaconda/envs/azureml_py310_sdkv2/lib/python3.10/site-packages (1.2.0)\nRequirement already satisfied: pandas in /anaconda/envs/azureml_py310_sdkv2/lib/python3.10/site-packages (1.5.2)\nRequirement already satisfied: requests in /anaconda/envs/azureml_py310_sdkv2/lib/python3.10/site-packages (from pytrials) (2.28.2)\nRequirement already satisfied: aiohttp in /anaconda/envs/azureml_py310_sdkv2/lib/python3.10/site-packages (from openai) (3.8.4)\nRequirement already satisfied: tqdm in /anaconda/envs/azureml_py310_sdkv2/lib/python3.10/site-packages (from openai) (4.64.1)\nRequirement already satisfied: numpy<2,>=1 in /anaconda/envs/azureml_py310_sdkv2/lib/python3.10/site-packages (from langchain) (1.24.1)\nRequirement already satisfied: dataclasses-json<0.6.0,>=0.5.7 in /anaconda/envs/azureml_py310_sdkv2/lib/python3.10/site-packages (from langchain) (0.5.7)\nRequirement already satisfied: pydantic<2,>=1 in /anaconda/envs/azureml_py310_sdkv2/lib/python3.10/site-packages (from langchain) (1.10.7)\nRequirement already satisfied: tenacity<9.0.0,>=8.1.0 in /anaconda/envs/azureml_py310_sdkv2/lib/python3.10/site-packages (from langchain) (8.2.2)\nRequirement already satisfied: PyYAML>=5.4.1 in /anaconda/envs/azureml_py310_sdkv2/lib/python3.10/site-packages (from langchain) (6.0)\nRequirement already satisfied: SQLAlchemy<2,>=1 in /anaconda/envs/azureml_py310_sdkv2/lib/python3.10/site-packages (from langchain) (1.4.46)\nRequirement already satisfied: async-timeout>=4.0.2 in /anaconda/envs/azureml_py310_sdkv2/lib/python3.10/site-packages (from redis) (4.0.2)\nRequirement already satisfied: regex>=2022.1.18 in /anaconda/envs/azureml_py310_sdkv2/lib/python3.10/site-packages (from tiktoken) (2023.3.23)\nCollecting docopt>=0.6.2\n  Downloading docopt-0.6.2.tar.gz (25 kB)\n  Preparing metadata (setup.py) ... \u001b[?25l-\b \bdone\n\u001b[?25hRequirement already satisfied: cycler>=0.10 in /anaconda/envs/azureml_py310_sdkv2/lib/python3.10/site-packages (from matplotlib) (0.11.0)\nRequirement already satisfied: kiwisolver>=1.0.1 in /anaconda/envs/azureml_py310_sdkv2/lib/python3.10/site-packages (from matplotlib) (1.4.4)\nRequirement already satisfied: packaging>=20.0 in /anaconda/envs/azureml_py310_sdkv2/lib/python3.10/site-packages (from matplotlib) (21.3)\nRequirement already satisfied: fonttools>=4.22.0 in /anaconda/envs/azureml_py310_sdkv2/lib/python3.10/site-packages (from matplotlib) (4.38.0)\nRequirement already satisfied: pillow>=6.2.0 in /anaconda/envs/azureml_py310_sdkv2/lib/python3.10/site-packages (from matplotlib) (9.4.0)\nRequirement already satisfied: pyparsing>=2.2.1 in /anaconda/envs/azureml_py310_sdkv2/lib/python3.10/site-packages (from matplotlib) (3.0.9)\nRequirement already satisfied: contourpy>=1.0.1 in /anaconda/envs/azureml_py310_sdkv2/lib/python3.10/site-packages (from matplotlib) (1.0.7)\nRequirement already satisfied: python-dateutil>=2.7 in /anaconda/envs/azureml_py310_sdkv2/lib/python3.10/site-packages (from matplotlib) (2.8.2)\nRequirement already satisfied: joblib>=1.1.1 in /anaconda/envs/azureml_py310_sdkv2/lib/python3.10/site-packages (from scikit-learn) (1.2.0)\nRequirement already satisfied: threadpoolctl>=2.0.0 in /anaconda/envs/azureml_py310_sdkv2/lib/python3.10/site-packages (from scikit-learn) (3.1.0)\nRequirement already satisfied: pytz>=2020.1 in /anaconda/envs/azureml_py310_sdkv2/lib/python3.10/site-packages (from pandas) (2022.7.1)\nRequirement already satisfied: attrs>=17.3.0 in /anaconda/envs/azureml_py310_sdkv2/lib/python3.10/site-packages (from aiohttp->openai) (22.2.0)\nRequirement already satisfied: yarl<2.0,>=1.0 in /anaconda/envs/azureml_py310_sdkv2/lib/python3.10/site-packages (from aiohttp->openai) (1.8.2)\nRequirement already satisfied: charset-normalizer<4.0,>=2.0 in /anaconda/envs/azureml_py310_sdkv2/lib/python3.10/site-packages (from aiohttp->openai) (3.0.1)\nRequirement already satisfied: aiosignal>=1.1.2 in /anaconda/envs/azureml_py310_sdkv2/lib/python3.10/site-packages (from aiohttp->openai) (1.3.1)\nRequirement already satisfied: frozenlist>=1.1.1 in /anaconda/envs/azureml_py310_sdkv2/lib/python3.10/site-packages (from aiohttp->openai) (1.3.3)\nRequirement already satisfied: multidict<7.0,>=4.5 in /anaconda/envs/azureml_py310_sdkv2/lib/python3.10/site-packages (from aiohttp->openai) (6.0.4)\nRequirement already satisfied: marshmallow-enum<2.0.0,>=1.5.1 in /anaconda/envs/azureml_py310_sdkv2/lib/python3.10/site-packages (from dataclasses-json<0.6.0,>=0.5.7->langchain) (1.5.1)\nRequirement already satisfied: typing-inspect>=0.4.0 in /anaconda/envs/azureml_py310_sdkv2/lib/python3.10/site-packages (from dataclasses-json<0.6.0,>=0.5.7->langchain) (0.8.0)\nRequirement already satisfied: marshmallow<4.0.0,>=3.3.0 in /anaconda/envs/azureml_py310_sdkv2/lib/python3.10/site-packages (from dataclasses-json<0.6.0,>=0.5.7->langchain) (3.19.0)\nRequirement already satisfied: typing-extensions>=4.2.0 in /anaconda/envs/azureml_py310_sdkv2/lib/python3.10/site-packages (from pydantic<2,>=1->langchain) (4.4.0)\nRequirement already satisfied: six>=1.5 in /anaconda/envs/azureml_py310_sdkv2/lib/python3.10/site-packages (from python-dateutil>=2.7->matplotlib) (1.16.0)\nRequirement already satisfied: certifi>=2017.4.17 in /anaconda/envs/azureml_py310_sdkv2/lib/python3.10/site-packages (from requests->pytrials) (2022.6.15)\nRequirement already satisfied: urllib3<1.27,>=1.21.1 in /anaconda/envs/azureml_py310_sdkv2/lib/python3.10/site-packages (from requests->pytrials) (1.26.14)\nRequirement already satisfied: idna<4,>=2.5 in /anaconda/envs/azureml_py310_sdkv2/lib/python3.10/site-packages (from requests->pytrials) (3.4)\nRequirement already satisfied: greenlet!=0.4.17 in /anaconda/envs/azureml_py310_sdkv2/lib/python3.10/site-packages (from SQLAlchemy<2,>=1->langchain) (2.0.1)\nRequirement already satisfied: mypy-extensions>=0.3.0 in /anaconda/envs/azureml_py310_sdkv2/lib/python3.10/site-packages (from typing-inspect>=0.4.0->dataclasses-json<0.6.0,>=0.5.7->langchain) (1.0.0)\nBuilding wheels for collected packages: docopt\n  Building wheel for docopt (setup.py) ... \u001b[?25l-\b \b\\\b \b|\b \bdone\n\u001b[?25h  Created wheel for docopt: filename=docopt-0.6.2-py2.py3-none-any.whl size=13706 sha256=74e8446f91f57555ea70e36677cd5e1932296685d3fe65a3bb397a495af39d07\n  Stored in directory: /home/azureuser/.cache/pip/wheels/7c/d7/8d/2156234738063e3d4a39ba77dc677046100e62766b53807189\nSuccessfully built docopt\nInstalling collected packages: docopt, num2words, plotly\nSuccessfully installed docopt-0.6.2 num2words-0.5.12 plotly-5.14.1\nNote: you may need to restart the kernel to use updated packages.\n"
        }
      ],
      "execution_count": 5,
      "metadata": {
        "jupyter": {
          "source_hidden": false,
          "outputs_hidden": false
        },
        "nteract": {
          "transient": {
            "deleting": false
          }
        },
        "gather": {
          "logged": 1680879732047
        }
      }
    },
    {
      "cell_type": "code",
      "source": [
        "from pytrials.client import ClinicalTrials\r\n",
        "import jmespath\r\n",
        "import re\r\n",
        "from openai.embeddings_utils import get_embedding, cosine_similarity\r\n",
        "from redis import Redis\r\n",
        "from redis.commands.search.query import Query\r\n",
        "from redis.commands.search.indexDefinition import IndexDefinition, IndexType\r\n",
        "from redis.commands.search.field import VectorField, TagField, TextField\r\n",
        "from tenacity import retry, wait_random_exponential, stop_after_attempt\r\n",
        "from langchain.llms import AzureOpenAI\r\n",
        "from langchain.chains import LLMChain\r\n",
        "from langchain.embeddings import OpenAIEmbeddings\r\n",
        "from langchain import PromptTemplate\r\n",
        "from langchain.text_splitter import RecursiveCharacterTextSplitter\r\n",
        "import tiktoken\r\n",
        "import openai\r\n",
        "import uuid\r\n",
        "import numpy as np\r\n",
        "import pandas as pd\r\n",
        "import os\r\n",
        "\r\n",
        "from langchain.callbacks import get_openai_callback\r\n",
        "from langchain.callbacks.base import CallbackManager\r\n",
        "from langchain.callbacks.streaming_stdout import StreamingStdOutCallbackHandler\r\n",
        "from langchain.chat_models import AzureChatOpenAI\r\n",
        "from langchain.prompts.chat import (\r\n",
        "    ChatPromptTemplate,\r\n",
        "    SystemMessagePromptTemplate,\r\n",
        "    AIMessagePromptTemplate,\r\n",
        "    HumanMessagePromptTemplate,\r\n",
        ")\r\n",
        "from langchain.schema import (\r\n",
        "    AIMessage,\r\n",
        "    HumanMessage,\r\n",
        "    SystemMessage\r\n",
        ")\r\n"
      ],
      "outputs": [],
      "execution_count": 2,
      "metadata": {
        "jupyter": {
          "source_hidden": false,
          "outputs_hidden": false
        },
        "nteract": {
          "transient": {
            "deleting": false
          }
        },
        "gather": {
          "logged": 1681173773676
        }
      }
    },
    {
      "cell_type": "code",
      "source": [
        "# setting up api keys\r\n",
        "\r\n",
        "openai.api_type = \"azure\"\r\n",
        "openai.api_base = 'https://<your endpoint>.openai.azure.com/'\r\n",
        "openai.api_version = \"2023-03-15-preview\"\r\n",
        "openai.api_key = '<Add your openai Key>'\r\n",
        "\r\n",
        "redis_key = '<add your redis key>'\r\n",
        "redis_endpoint = '<add your redis endpoint>'\r\n"
      ],
      "outputs": [],
      "execution_count": 3,
      "metadata": {
        "jupyter": {
          "source_hidden": false,
          "outputs_hidden": false
        },
        "nteract": {
          "transient": {
            "deleting": false
          }
        },
        "gather": {
          "logged": 1681173774004
        }
      }
    },
    {
      "cell_type": "code",
      "source": [
        "# Redis configuration\r\n",
        "#Ada: 1536 dimensions\r\n",
        "#Babbage: 2048 dimensions\r\n",
        "#Curie: 4096 dimensions\r\n",
        "#Davinci: 12288 dimensions\r\n",
        "DIM = 1536\r\n",
        "VECT_NUMBER = 3155\r\n",
        "index_name = \"embeddings-index\"\r\n",
        "url_prefix = \"https://clinicaltrials.gov/ct2/show/\""
      ],
      "outputs": [],
      "execution_count": 4,
      "metadata": {
        "jupyter": {
          "source_hidden": false,
          "outputs_hidden": false
        },
        "nteract": {
          "transient": {
            "deleting": false
          }
        },
        "gather": {
          "logged": 1681173777142
        }
      }
    },
    {
      "cell_type": "code",
      "source": [
        "#setting up the models\r\n",
        "doc_engine = 'text-embedding-ada-002'\r\n",
        "query_engine = 'text-embedding-ada-002'\r\n",
        "qna_engine = 'gpt-4-32k'\r\n",
        "encoding_name = \"cl100k_base\"  # For second-generation embedding models like text-embedding-ada-002, use the cl100k_base encoding.\r\n",
        "top_n_results = 3"
      ],
      "outputs": [],
      "execution_count": 15,
      "metadata": {
        "jupyter": {
          "source_hidden": false,
          "outputs_hidden": false
        },
        "nteract": {
          "transient": {
            "deleting": false
          }
        },
        "gather": {
          "logged": 1681173819096
        }
      }
    },
    {
      "cell_type": "code",
      "source": [
        "#normalizaing text\r\n",
        "def normalize_text(s, sep_token = \" \\n \"):\r\n",
        "    s = re.sub(r'\\s+',  ' ', s).strip()\r\n",
        "    s = re.sub(r\". ,\",\"\",s)\r\n",
        "    # remove all instances of multiple spaces\r\n",
        "    s = s.replace(\"..\",\".\")\r\n",
        "    s = s.replace(\". .\",\".\")\r\n",
        "    s = s.replace(\"\\n\", \"\")\r\n",
        "    s = s.strip()\r\n",
        "    \r\n",
        "    return s"
      ],
      "outputs": [],
      "execution_count": 5,
      "metadata": {
        "jupyter": {
          "source_hidden": false,
          "outputs_hidden": false
        },
        "nteract": {
          "transient": {
            "deleting": false
          }
        },
        "gather": {
          "logged": 1681173779158
        }
      }
    },
    {
      "cell_type": "code",
      "source": [
        "# retriveing the clincal study details\r\n",
        "def get_clinical_study(study_name , num_studies):\r\n",
        "    ct = ClinicalTrials()\r\n",
        "    desc = ct.get_full_studies(search_expr=study_name, max_studies=num_studies)\r\n",
        "    detail_lst = []    \r\n",
        "\r\n",
        "    for i in range(num_studies):\r\n",
        "        detail_lst.append([])\r\n",
        "        NCTId = jmespath.search('FullStudiesResponse.FullStudies['+str(i)+'].Study.ProtocolSection.IdentificationModule.NCTId',desc)\r\n",
        "        source_url = url_prefix + NCTId\r\n",
        "        #RecruitmentStatus = jmespath.search('FullStudiesResponse.FullStudies['+str(i)+'].Study.ProtocolSection.StatusModule.OverallStatus',desc)\r\n",
        "        #BriefSummary = jmespath.search('FullStudiesResponse.FullStudies['+str(i)+'].Study.ProtocolSection.DescriptionModule.BriefSummary',desc)\r\n",
        "        #DetailedDescription = jmespath.search('FullStudiesResponse.FullStudies['+str(i)+'].Study.ProtocolSection.DescriptionModule.DetailedDescription',desc)\r\n",
        "        EligibilityCriteria = jmespath.search('FullStudiesResponse.FullStudies['+str(i)+'].Study.ProtocolSection.EligibilityModule.EligibilityCriteria',desc)\r\n",
        "\r\n",
        "        EligibilityCriteria = normalize_text(EligibilityCriteria)\r\n",
        "\r\n",
        "        detail_lst[i].append(source_url)\r\n",
        "        detail_lst[i].append(EligibilityCriteria)\r\n",
        "        \r\n",
        "        '''\r\n",
        "        if DetailedDescription is None:\r\n",
        "            BriefSummary = normalize_text(BriefSummary)\r\n",
        "            detail_lst[i].append(source_url)\r\n",
        "            detail_lst[i].append(BriefSummary + EligibilityCriteria)\r\n",
        "        else:\r\n",
        "            DetailedDescription = normalize_text(DetailedDescription)\r\n",
        "            BriefSummary = normalize_text(BriefSummary)\r\n",
        "            detail_lst[i].append(source_url)\r\n",
        "            detail_lst[i].append(BriefSummary + DetailedDescription + EligibilityCriteria)\r\n",
        "        '''\r\n",
        "    return detail_lst"
      ],
      "outputs": [],
      "execution_count": 6,
      "metadata": {
        "jupyter": {
          "source_hidden": false,
          "outputs_hidden": false
        },
        "nteract": {
          "transient": {
            "deleting": false
          }
        },
        "gather": {
          "logged": 1681173781194
        }
      }
    },
    {
      "cell_type": "code",
      "source": [
        "#counting the tokens \r\n",
        "def num_tokens_from_string(string: str, encoding_name: str) -> int:\r\n",
        "    \"\"\"Returns the number of tokens in a text string.\"\"\"\r\n",
        "    encoding = tiktoken.get_encoding(encoding_name)\r\n",
        "    num_tokens = len(encoding.encode(string))\r\n",
        "    return num_tokens"
      ],
      "outputs": [],
      "execution_count": 7,
      "metadata": {
        "jupyter": {
          "source_hidden": false,
          "outputs_hidden": false
        },
        "nteract": {
          "transient": {
            "deleting": false
          }
        },
        "gather": {
          "logged": 1681173782282
        }
      }
    },
    {
      "cell_type": "code",
      "source": [
        "#chunking the study EligibilityCriteria and returing the embeddings\r\n",
        "def chunk_and_embed(text, source_url):\r\n",
        "\r\n",
        "    full_data = {\r\n",
        "       \"source_url\" : None,\r\n",
        "        \"text\": None,\r\n",
        "        \"doc_embeddings\": None\r\n",
        "    }\r\n",
        "\r\n",
        "    # initialize a text splitter (why? GPT-3 has a limited context window, so we need a way to chunk our documents and pass in the relevant content)\r\n",
        "    \r\n",
        "    text_splitter = RecursiveCharacterTextSplitter(\r\n",
        "            chunk_size = 1000,\r\n",
        "            chunk_overlap  = 200,\r\n",
        "            length_function = len)\r\n",
        "    \r\n",
        "    chunks = text_splitter.split_text(text)\r\n",
        "\r\n",
        "    #documents = []\r\n",
        "\r\n",
        "    for i, chunk in enumerate(chunks):\r\n",
        "        emb = get_embedding(chunk, engine = doc_engine)\r\n",
        "\r\n",
        "        full_data['source_url'] = source_url\r\n",
        "        full_data['text'] = text\r\n",
        "        full_data['doc_embeddings'] = emb\r\n",
        "\r\n",
        "        #doc = Document(chunk, embedding= emb, doc_id=f\"doc_id_{i}\", extra_info = source_url)\r\n",
        "        #documents.append(doc)\r\n",
        "    return full_data"
      ],
      "outputs": [],
      "execution_count": 8,
      "metadata": {
        "jupyter": {
          "source_hidden": false,
          "outputs_hidden": false
        },
        "nteract": {
          "transient": {
            "deleting": false
          }
        },
        "gather": {
          "logged": 1681173783345
        }
      }
    },
    {
      "cell_type": "code",
      "source": [
        "#delete index\r\n",
        "def delete_index(index):\r\n",
        "    result = redis_conn.execute_command(\"FT.DROP\", index)  \r\n",
        "    print('Index Deleted.')"
      ],
      "outputs": [],
      "execution_count": 9,
      "metadata": {
        "jupyter": {
          "source_hidden": false,
          "outputs_hidden": false
        },
        "nteract": {
          "transient": {
            "deleting": false
          }
        },
        "gather": {
          "logged": 1681173785171
        }
      }
    },
    {
      "cell_type": "code",
      "source": [
        "#create index\r\n",
        "def create_index(redis_conn: Redis, index_name=\"embeddings-index\", prefix = \"embedding\",number_of_vectors = VECT_NUMBER, distance_metric:str=\"COSINE\"):\r\n",
        "    source_url = TextField(name=\"source_url\")\r\n",
        "    text = TextField(name=\"text\")\r\n",
        "    embeddings = VectorField(\"embeddings\",\r\n",
        "                \"HNSW\", {\r\n",
        "                    \"TYPE\": \"FLOAT32\",\r\n",
        "                    \"DIM\": DIM,\r\n",
        "                    \"DISTANCE_METRIC\": distance_metric,\r\n",
        "                    \"INITIAL_CAP\": number_of_vectors,\r\n",
        "                })\r\n",
        "    # Create index\r\n",
        "    redis_conn.ft(index_name).create_index(\r\n",
        "        fields = [source_url, text, embeddings],\r\n",
        "        definition = IndexDefinition(prefix=[prefix], index_type=IndexType.HASH)\r\n",
        "    )"
      ],
      "outputs": [],
      "execution_count": 10,
      "metadata": {
        "jupyter": {
          "source_hidden": false,
          "outputs_hidden": false
        },
        "nteract": {
          "transient": {
            "deleting": false
          }
        },
        "gather": {
          "logged": 1681173787161
        }
      }
    },
    {
      "cell_type": "code",
      "source": [
        "#settin the documents\r\n",
        "def set_document(elem):\r\n",
        "    index = str(uuid.uuid4())\r\n",
        "    redis_conn.hset(\r\n",
        "        f\"embedding:{index}\",\r\n",
        "        mapping={\r\n",
        "            \"source_url\": elem['source_url'],\r\n",
        "            \"text\": elem['text'],\r\n",
        "            \"embeddings\": np.array(elem['doc_embeddings']).astype(dtype=np.float32).tobytes()\r\n",
        "        }\r\n",
        "    )"
      ],
      "outputs": [],
      "execution_count": 11,
      "metadata": {
        "jupyter": {
          "source_hidden": false,
          "outputs_hidden": false
        },
        "nteract": {
          "transient": {
            "deleting": false
          }
        },
        "gather": {
          "logged": 1681173788093
        }
      }
    },
    {
      "cell_type": "code",
      "source": [
        "#creating the index\r\n",
        "def add_embeddings(source_url, text):\r\n",
        "    embeddings = chunk_and_embed(source_url, text)\r\n",
        "    if embeddings:\r\n",
        "        # Store embeddings in Redis\r\n",
        "        set_document(embeddings)\r\n"
      ],
      "outputs": [],
      "execution_count": 12,
      "metadata": {
        "jupyter": {
          "source_hidden": false,
          "outputs_hidden": false
        },
        "nteract": {
          "transient": {
            "deleting": false
          }
        },
        "gather": {
          "logged": 1681173789617
        }
      }
    },
    {
      "cell_type": "code",
      "source": [
        "#Getting the documents\r\n",
        "def get_documents(number_of_results: int=VECT_NUMBER):\r\n",
        "    base_query = f'*'\r\n",
        "    return_fields = ['id', 'source_url', 'text']\r\n",
        "    query = Query(base_query)\\\r\n",
        "        .paging(0, number_of_results)\\\r\n",
        "        .return_fields(*return_fields)\\\r\n",
        "        .dialect(2)\r\n",
        "    results = redis_conn.ft(index_name).search(query)\r\n",
        "    if results.docs:\r\n",
        "        return pd.DataFrame(list(map(lambda x: {'id' : x.id, 'source_url': x.source_url, 'text': x.text}, results.docs)))\r\n",
        "    else:\r\n",
        "        return pd.DataFrame()"
      ],
      "outputs": [],
      "execution_count": 13,
      "metadata": {
        "jupyter": {
          "source_hidden": false,
          "outputs_hidden": false
        },
        "nteract": {
          "transient": {
            "deleting": false
          }
        },
        "gather": {
          "logged": 1681173792198
        }
      }
    },
    {
      "cell_type": "code",
      "source": [
        "#executing the query\r\n",
        "def execute_query(np_vector:np.array, return_fields: list=[], search_type: str=\"KNN\", number_of_results: int=top_n_results, vector_field_name: str=\"embeddings\"):\r\n",
        "    base_query = f'*=>[{search_type} {number_of_results} @{vector_field_name} $vec_param AS vector_score]'\r\n",
        "    query = Query(base_query)\\\r\n",
        "        .sort_by(\"vector_score\")\\\r\n",
        "        .paging(0, number_of_results)\\\r\n",
        "        .return_fields(*return_fields)\\\r\n",
        "        .dialect(2)\r\n",
        "    \r\n",
        "    params_dict = {\"vec_param\": np_vector.astype(dtype=np.float32).tobytes()}\r\n",
        "\r\n",
        "    results = redis_conn.ft(index_name).search(query, params_dict)\r\n",
        "    return pd.DataFrame(list(map(lambda x: {'id': x.id, 'source_url': x.source_url, 'text': x.text, 'vector_score': x.vector_score}, results.docs)))\r\n"
      ],
      "outputs": [],
      "execution_count": 16,
      "metadata": {
        "jupyter": {
          "source_hidden": false,
          "outputs_hidden": false
        },
        "nteract": {
          "transient": {
            "deleting": false
          }
        },
        "gather": {
          "logged": 1681173823634
        }
      }
    },
    {
      "cell_type": "code",
      "source": [
        "# Semantically search using the computed embeddings on RediSearch\r\n",
        "def search_semantic_redis(search_query, pprint=True):\r\n",
        "    embedding = get_embedding(search_query, engine = query_engine)\r\n",
        "    res = execute_query(np.array(embedding))\r\n",
        "\r\n",
        "    if pprint:\r\n",
        "        for r in res:\r\n",
        "            print(r[:200])\r\n",
        "            print()\r\n",
        "    return res.reset_index()"
      ],
      "outputs": [],
      "execution_count": 17,
      "metadata": {
        "jupyter": {
          "source_hidden": false,
          "outputs_hidden": false
        },
        "nteract": {
          "transient": {
            "deleting": false
          }
        },
        "gather": {
          "logged": 1681173826130
        }
      }
    },
    {
      "cell_type": "code",
      "source": [
        "#creating the context for LLM\r\n",
        "def create_context(question):\r\n",
        "    \"\"\"\r\n",
        "    Find most relevant context for a question via Redisearch\r\n",
        "    \"\"\"\r\n",
        "    res = search_semantic_redis(question)\r\n",
        "    if len(res) == 0:\r\n",
        "        return None, \"No vectors matched, try a different context.\"\r\n",
        "    \r\n",
        "    res_text = \"\\nStudy Link: \".join(res['source_url'] + \"\\n\" + \"Criteria: \" + res[\"text\"] + \"\\n\\n\")\r\n",
        "    n_tokens = num_tokens_from_string(res_text, encoding_name)\r\n",
        "\r\n",
        "    return (res_text)"
      ],
      "outputs": [],
      "execution_count": 18,
      "metadata": {
        "jupyter": {
          "source_hidden": false,
          "outputs_hidden": false
        },
        "nteract": {
          "transient": {
            "deleting": false
          }
        },
        "gather": {
          "logged": 1681173828541
        }
      }
    },
    {
      "cell_type": "code",
      "source": [
        "#populating the study requirement deatils into vector store\r\n",
        "def add_docs(study_name, number_of_studies):\r\n",
        "    \"\"\"\r\n",
        "    Adding the base docuents' embeddings into Redisearch\r\n",
        "    \"\"\"\r\n",
        "    # Check if Redis index exists\r\n",
        "    index_name = \"embeddings-index\"\r\n",
        "    #delete_index(index_name)\r\n",
        "    try:\r\n",
        "        if redis_conn.ft(index_name).info():\r\n",
        "            print(\"Index exists\")\r\n",
        "    except:\r\n",
        "        print(\"Index does not exist\")\r\n",
        "        print(\"Creating index\")\r\n",
        "        # Create index \r\n",
        "        create_index(redis_conn)\r\n",
        "\r\n",
        "    studis = get_clinical_study(study_name, number_of_studies)\r\n",
        "\r\n",
        "    for inner_list in studis:\r\n",
        "        add_embeddings(inner_list[1],inner_list[0])\r\n"
      ],
      "outputs": [],
      "execution_count": 122,
      "metadata": {
        "jupyter": {
          "source_hidden": false,
          "outputs_hidden": false
        },
        "nteract": {
          "transient": {
            "deleting": false
          }
        },
        "gather": {
          "logged": 1680890322245
        }
      }
    },
    {
      "cell_type": "code",
      "source": [
        "# Connect to the Redis server\r\n",
        "redis_conn = Redis(host= redis_endpoint, port=10000, password=redis_key, ssl=True)\r\n",
        "\r\n",
        "#Creating the index\r\n",
        "#add_docs('COVID-19',10)\r\n",
        "\r\n",
        "#add_docs('Breast Cancer',10)"
      ],
      "outputs": [],
      "execution_count": 20,
      "metadata": {
        "jupyter": {
          "source_hidden": false,
          "outputs_hidden": false
        },
        "nteract": {
          "transient": {
            "deleting": false
          }
        },
        "gather": {
          "logged": 1681173851228
        }
      }
    },
    {
      "cell_type": "code",
      "source": [
        "result = get_documents(20)\r\n",
        "\r\n",
        "result"
      ],
      "outputs": [
        {
          "output_type": "execute_result",
          "execution_count": 21,
          "data": {
            "text/plain": "                                                id  \\\n0   embedding:15e4d3b0-0fd2-4358-b6f4-9b374ad10a02   \n1   embedding:39dfa344-2dc7-4a4d-8cf4-91648ca5df7e   \n2   embedding:58f5644f-17b3-411f-8265-8ba7dd1b9934   \n3   embedding:bf437457-5f52-4f73-8947-49b8a2174450   \n4   embedding:2d2639d7-01e1-4c3f-aec8-3e703b9b1a8f   \n5   embedding:2defac16-0c5d-4efc-8a37-f1412fa75456   \n6   embedding:8649ea8b-a74f-4776-b88d-a634193f1707   \n7   embedding:c4b633f9-2b67-4dd1-a727-1422a2cad2c9   \n8   embedding:cd674627-cf4b-4023-b45e-099767984380   \n9   embedding:d8ca8955-3e75-45c9-9e3e-9d1270f93b75   \n10  embedding:f499a6b6-329d-49f4-a296-8c18bb778b56   \n11  embedding:dc9e5f97-b95a-4798-a9bf-0f0752cf8d19   \n12  embedding:1db572da-e9e9-4bff-83d4-c8cac5804fd0   \n13  embedding:24636d52-2f9d-42da-a354-da5dbe376375   \n14  embedding:a540d178-33a3-4d00-9d5a-20abbb66a093   \n15  embedding:15b8dd09-1899-4bd2-9aa6-e72eda0dd969   \n16  embedding:e88ba6f8-9c7b-44de-82f9-4be64d54b19b   \n17  embedding:a770a766-80e2-4c5b-9f69-d028b14f9c9f   \n18  embedding:2aa588e7-5089-49cb-baf7-173e10ac1d16   \n19  embedding:85c07c1f-6641-4ddf-9e27-569f82a6ca09   \n\n                                         source_url  \\\n0   https://clinicaltrials.gov/ct2/show/NCT04372004   \n1   https://clinicaltrials.gov/ct2/show/NCT05384886   \n2   https://clinicaltrials.gov/ct2/show/NCT04167605   \n3   https://clinicaltrials.gov/ct2/show/NCT05373459   \n4   https://clinicaltrials.gov/ct2/show/NCT04892888   \n5   https://clinicaltrials.gov/ct2/show/NCT04516330   \n6   https://clinicaltrials.gov/ct2/show/NCT03598660   \n7   https://clinicaltrials.gov/ct2/show/NCT04941144   \n8   https://clinicaltrials.gov/ct2/show/NCT05375799   \n9   https://clinicaltrials.gov/ct2/show/NCT04657510   \n10  https://clinicaltrials.gov/ct2/show/NCT03662633   \n11  https://clinicaltrials.gov/ct2/show/NCT05082740   \n12  https://clinicaltrials.gov/ct2/show/NCT02493569   \n13  https://clinicaltrials.gov/ct2/show/NCT04495244   \n14  https://clinicaltrials.gov/ct2/show/NCT04875351   \n15  https://clinicaltrials.gov/ct2/show/NCT04595136   \n16  https://clinicaltrials.gov/ct2/show/NCT03180086   \n17  https://clinicaltrials.gov/ct2/show/NCT04973462   \n18  https://clinicaltrials.gov/ct2/show/NCT02403505   \n19  https://clinicaltrials.gov/ct2/show/NCT03343691   \n\n                                                 text  \n0   Inclusion Criteria: • Male or female over 18 y...  \n1   Inclusion Criteria: - All patients with a conf...  \n2   Inclusion Criteria: Adult women (≥ 18 years) c...  \n3   Inclusion Criteria: All full time staff member...  \n4   Inclusion Criteria: The participant is capable...  \n5   Inclusion Criteria: Having breast cancer Havin...  \n6   Inclusion Criteria: breast cancer patients bef...  \n7   Inclusion Criteria: Participants who have part...  \n8   Inclusion Criteria: Data from adult patients d...  \n9   Inclusion Criteria: Age ≥45 years Admitted to ...  \n10  Inclusion Criteria: Receiving no treatment bef...  \n11  Inclusion Criteria: previously given informed ...  \n12  Inclusion Criteria: Female patients; The hospi...  \n13  Inclusion criteria Aged 30-75 years Normal bre...  \n14  Inclusion Criteria: Early stage (I, II or III)...  \n15  Inclusion Criteria: Provide written consent be...  \n16  Inclusion Criteria: women aged 40-49 years rea...  \n17  Inclusion Criteria: Adults from 18 to 60 years...  \n18  Conducting an early phase clinical trial to as...  \n19  Inclusion Criteria: Screening Population: Subj...  ",
            "text/html": "<div>\n<style scoped>\n    .dataframe tbody tr th:only-of-type {\n        vertical-align: middle;\n    }\n\n    .dataframe tbody tr th {\n        vertical-align: top;\n    }\n\n    .dataframe thead th {\n        text-align: right;\n    }\n</style>\n<table border=\"1\" class=\"dataframe\">\n  <thead>\n    <tr style=\"text-align: right;\">\n      <th></th>\n      <th>id</th>\n      <th>source_url</th>\n      <th>text</th>\n    </tr>\n  </thead>\n  <tbody>\n    <tr>\n      <th>0</th>\n      <td>embedding:15e4d3b0-0fd2-4358-b6f4-9b374ad10a02</td>\n      <td>https://clinicaltrials.gov/ct2/show/NCT04372004</td>\n      <td>Inclusion Criteria: • Male or female over 18 y...</td>\n    </tr>\n    <tr>\n      <th>1</th>\n      <td>embedding:39dfa344-2dc7-4a4d-8cf4-91648ca5df7e</td>\n      <td>https://clinicaltrials.gov/ct2/show/NCT05384886</td>\n      <td>Inclusion Criteria: - All patients with a conf...</td>\n    </tr>\n    <tr>\n      <th>2</th>\n      <td>embedding:58f5644f-17b3-411f-8265-8ba7dd1b9934</td>\n      <td>https://clinicaltrials.gov/ct2/show/NCT04167605</td>\n      <td>Inclusion Criteria: Adult women (≥ 18 years) c...</td>\n    </tr>\n    <tr>\n      <th>3</th>\n      <td>embedding:bf437457-5f52-4f73-8947-49b8a2174450</td>\n      <td>https://clinicaltrials.gov/ct2/show/NCT05373459</td>\n      <td>Inclusion Criteria: All full time staff member...</td>\n    </tr>\n    <tr>\n      <th>4</th>\n      <td>embedding:2d2639d7-01e1-4c3f-aec8-3e703b9b1a8f</td>\n      <td>https://clinicaltrials.gov/ct2/show/NCT04892888</td>\n      <td>Inclusion Criteria: The participant is capable...</td>\n    </tr>\n    <tr>\n      <th>5</th>\n      <td>embedding:2defac16-0c5d-4efc-8a37-f1412fa75456</td>\n      <td>https://clinicaltrials.gov/ct2/show/NCT04516330</td>\n      <td>Inclusion Criteria: Having breast cancer Havin...</td>\n    </tr>\n    <tr>\n      <th>6</th>\n      <td>embedding:8649ea8b-a74f-4776-b88d-a634193f1707</td>\n      <td>https://clinicaltrials.gov/ct2/show/NCT03598660</td>\n      <td>Inclusion Criteria: breast cancer patients bef...</td>\n    </tr>\n    <tr>\n      <th>7</th>\n      <td>embedding:c4b633f9-2b67-4dd1-a727-1422a2cad2c9</td>\n      <td>https://clinicaltrials.gov/ct2/show/NCT04941144</td>\n      <td>Inclusion Criteria: Participants who have part...</td>\n    </tr>\n    <tr>\n      <th>8</th>\n      <td>embedding:cd674627-cf4b-4023-b45e-099767984380</td>\n      <td>https://clinicaltrials.gov/ct2/show/NCT05375799</td>\n      <td>Inclusion Criteria: Data from adult patients d...</td>\n    </tr>\n    <tr>\n      <th>9</th>\n      <td>embedding:d8ca8955-3e75-45c9-9e3e-9d1270f93b75</td>\n      <td>https://clinicaltrials.gov/ct2/show/NCT04657510</td>\n      <td>Inclusion Criteria: Age ≥45 years Admitted to ...</td>\n    </tr>\n    <tr>\n      <th>10</th>\n      <td>embedding:f499a6b6-329d-49f4-a296-8c18bb778b56</td>\n      <td>https://clinicaltrials.gov/ct2/show/NCT03662633</td>\n      <td>Inclusion Criteria: Receiving no treatment bef...</td>\n    </tr>\n    <tr>\n      <th>11</th>\n      <td>embedding:dc9e5f97-b95a-4798-a9bf-0f0752cf8d19</td>\n      <td>https://clinicaltrials.gov/ct2/show/NCT05082740</td>\n      <td>Inclusion Criteria: previously given informed ...</td>\n    </tr>\n    <tr>\n      <th>12</th>\n      <td>embedding:1db572da-e9e9-4bff-83d4-c8cac5804fd0</td>\n      <td>https://clinicaltrials.gov/ct2/show/NCT02493569</td>\n      <td>Inclusion Criteria: Female patients; The hospi...</td>\n    </tr>\n    <tr>\n      <th>13</th>\n      <td>embedding:24636d52-2f9d-42da-a354-da5dbe376375</td>\n      <td>https://clinicaltrials.gov/ct2/show/NCT04495244</td>\n      <td>Inclusion criteria Aged 30-75 years Normal bre...</td>\n    </tr>\n    <tr>\n      <th>14</th>\n      <td>embedding:a540d178-33a3-4d00-9d5a-20abbb66a093</td>\n      <td>https://clinicaltrials.gov/ct2/show/NCT04875351</td>\n      <td>Inclusion Criteria: Early stage (I, II or III)...</td>\n    </tr>\n    <tr>\n      <th>15</th>\n      <td>embedding:15b8dd09-1899-4bd2-9aa6-e72eda0dd969</td>\n      <td>https://clinicaltrials.gov/ct2/show/NCT04595136</td>\n      <td>Inclusion Criteria: Provide written consent be...</td>\n    </tr>\n    <tr>\n      <th>16</th>\n      <td>embedding:e88ba6f8-9c7b-44de-82f9-4be64d54b19b</td>\n      <td>https://clinicaltrials.gov/ct2/show/NCT03180086</td>\n      <td>Inclusion Criteria: women aged 40-49 years rea...</td>\n    </tr>\n    <tr>\n      <th>17</th>\n      <td>embedding:a770a766-80e2-4c5b-9f69-d028b14f9c9f</td>\n      <td>https://clinicaltrials.gov/ct2/show/NCT04973462</td>\n      <td>Inclusion Criteria: Adults from 18 to 60 years...</td>\n    </tr>\n    <tr>\n      <th>18</th>\n      <td>embedding:2aa588e7-5089-49cb-baf7-173e10ac1d16</td>\n      <td>https://clinicaltrials.gov/ct2/show/NCT02403505</td>\n      <td>Conducting an early phase clinical trial to as...</td>\n    </tr>\n    <tr>\n      <th>19</th>\n      <td>embedding:85c07c1f-6641-4ddf-9e27-569f82a6ca09</td>\n      <td>https://clinicaltrials.gov/ct2/show/NCT03343691</td>\n      <td>Inclusion Criteria: Screening Population: Subj...</td>\n    </tr>\n  </tbody>\n</table>\n</div>"
          },
          "metadata": {}
        }
      ],
      "execution_count": 21,
      "metadata": {
        "jupyter": {
          "source_hidden": false,
          "outputs_hidden": false
        },
        "nteract": {
          "transient": {
            "deleting": false
          }
        },
        "gather": {
          "logged": 1681173853947
        }
      }
    },
    {
      "cell_type": "code",
      "source": [
        "# defining the search query to retrive the related embedding from vector store\r\n",
        "\r\n",
        "search_query = 'A 30 years old pragnent woman  presents with symptoms of COVID-19, including fever, cough, fatigue, and loss of taste and smell. The patient reports that these symptoms began approximatel 7 days ago and have progressively worsened since onset. The patient reports that they recently returned from international travel and had close contact with someone diagnosed with COVID-19.'\r\n",
        "\r\n",
        "#search_query = 'John Smith is a 45-year-old male with no known underlying health conditions, who takes medication for high blood pressure and has no history of respiratory illness. He began experiencing symptoms of COVID-19 on March 22, 2023, including fever, cough, and shortness of breath, and tested positive for the virus on March 25, 2023. His symptoms worsened, leading to hospitalization on March 24, 2023. '\r\n",
        "\r\n",
        "#search_query = 'Sarah Johnson is a 35-year-old female with no history of cancer, no known genetic mutations associated with breast cancer, and no significant family history of the disease. She takes medication for hypothyroidism. During a self-exam, Sarah discovered a lump in her breast. A biopsy confirmed the lump was cancerous, and she was diagnosed with stage II breast cancer. Based on this patient history, Sarah Johnson may be eligible for breast cancer clinical trials that require patients to have a breast cancer diagnosis at stage II or higher, with no known genetic mutations associated with breast cancer or significant family history of the disease.'"
      ],
      "outputs": [],
      "execution_count": 83,
      "metadata": {
        "jupyter": {
          "source_hidden": false,
          "outputs_hidden": false
        },
        "nteract": {
          "transient": {
            "deleting": false
          }
        },
        "gather": {
          "logged": 1681492867037
        }
      }
    },
    {
      "cell_type": "code",
      "source": [
        "content = create_context(search_query)\r\n",
        "\r\n",
        "content"
      ],
      "outputs": [
        {
          "output_type": "stream",
          "name": "stdout",
          "text": "id\n\nsource_url\n\ntext\n\nvector_score\n\n"
        },
        {
          "output_type": "execute_result",
          "execution_count": 84,
          "data": {
            "text/plain": "'https://clinicaltrials.gov/ct2/show/NCT04372004\\nCriteria: Inclusion Criteria: • Male or female over 18 years of age at the time of enrollment Current symptoms of COVID-19 ; fever alone or fever and at least one of the following symptoms need to be present Dry cough Sore throat Shortness of breath Chills Muscle pain Headache New loss of taste or smell Chills with repeated shaking Exclusion Criteria: • Unwilling to provide informed consent Unwilling to undergo bi-weekly serological test during the 1-month enrollment\\n\\n\\nStudy Link: https://clinicaltrials.gov/ct2/show/NCT02403505\\nCriteria: Conducting an early phase clinical trial to assess COVID-19 Antigen Presentation Therapeutic Biological Product Mix that suggests the potential for clinical benefit of COVID-19 patients. 20 Lighter Than Mild COVID-19 Patients Inclusion Criteria: Lighter Than Mild COVID-19 Patients Positive testing COVID-19 by standard RT-PCR assay COVID-19 infection without symptoms Symptoms of mild illness with COVID-19 that could include fever, cough, sore throat, malaise, headache, muscle pain, nausea, vomiting, diarrhea, and loss of taste or smell, without shortness of breath or dyspnea No clinical signs indicative of Moderate, Severe, or Critical Severity PPD negative participant is 10 TU skin test reading < 5 mm induration at 48 hours. Exclusion Criteria: Pregnant Thrombosis Myocarditis Pericarditis Allergy PPD positive participant is 10 TU skin test reading > 5 mm induration at 48 hours Symptoms of moderate illness with COVID-19, which could include any symptom of mild illness or shortness of breath with exertion Clinical signs suggestive of moderate illness with COVID-19 Symptoms suggestive of severe systemic illness with COVID-19, which could include any symptom of moderate illness or shortness of breath at rest, or respiratory distress Clinical signs indicative of severe systemic illness with COVID-19 Evidence of critical illness Respiratory failure Shock Multi-organ dysfunction / failure\\n\\n\\nStudy Link: https://clinicaltrials.gov/ct2/show/NCT05384886\\nCriteria: Inclusion Criteria: - All patients with a confirmed diagnosis of COVID-19 by PCR testing Exclusion Criteria: Under 18 years old Clinical outcome cannot be followed Patients with severe trauma\\n\\n'"
          },
          "metadata": {}
        }
      ],
      "execution_count": 84,
      "metadata": {
        "jupyter": {
          "source_hidden": false,
          "outputs_hidden": false
        },
        "nteract": {
          "transient": {
            "deleting": false
          }
        },
        "gather": {
          "logged": 1681492872828
        }
      }
    },
    {
      "cell_type": "code",
      "source": [
        "#initializing chat instance from langchain\r\n",
        "chatmodel = AzureChatOpenAI(\r\n",
        "    openai_api_base=openai.api_base,\r\n",
        "    openai_api_version=openai.api_version,\r\n",
        "    deployment_name=qna_engine,\r\n",
        "    openai_api_key=openai.api_key,\r\n",
        "    openai_api_type=openai.api_type,\r\n",
        "    model_name=qna_engine,\r\n",
        "    callback_manager=CallbackManager([StreamingStdOutCallbackHandler()]), \r\n",
        "    verbose=True, \r\n",
        "    temperature=.7,\r\n",
        "    streaming=True,\r\n",
        "    max_tokens= 500\r\n",
        "    )"
      ],
      "outputs": [],
      "execution_count": 85,
      "metadata": {
        "jupyter": {
          "source_hidden": false,
          "outputs_hidden": false
        },
        "nteract": {
          "transient": {
            "deleting": false
          }
        },
        "gather": {
          "logged": 1681492897357
        }
      }
    },
    {
      "cell_type": "code",
      "source": [
        "# Creating the prompt and executing the prompt\r\n",
        "\r\n",
        "prompt_template = \"\"\"You are an helpful healthcare AI bot that helps docotor to find clinical trials matching from below studies. \r\n",
        "Make sure you always explain your answer for all {top_n_results} studies. If the question cannot be answered using the information provided then answer with \"There is no much infomation\", instead of making your own answers.\r\n",
        "While answering always provide the source study link with concide extactive summary at the end.\\n\r\n",
        "\r\n",
        "Studies :\\n\\nStudy Link: {context}\r\n",
        "\"\"\"\r\n",
        "system_message_prompt = SystemMessagePromptTemplate.from_template(prompt_template)\r\n",
        "\r\n",
        "human_template = \"{query}\"\r\n",
        "\r\n",
        "human_message_prompt = HumanMessagePromptTemplate.from_template(human_template)\r\n",
        "\r\n",
        "chat_prompt = ChatPromptTemplate.from_messages([system_message_prompt, human_message_prompt])"
      ],
      "outputs": [],
      "execution_count": 86,
      "metadata": {
        "jupyter": {
          "source_hidden": false,
          "outputs_hidden": false
        },
        "nteract": {
          "transient": {
            "deleting": false
          }
        },
        "gather": {
          "logged": 1681492898873
        }
      }
    },
    {
      "cell_type": "code",
      "source": [
        "question = search_query + \"Is this patient eligible for covid clinical trail?\""
      ],
      "outputs": [],
      "execution_count": 87,
      "metadata": {
        "jupyter": {
          "source_hidden": false,
          "outputs_hidden": false
        },
        "nteract": {
          "transient": {
            "deleting": false
          }
        },
        "gather": {
          "logged": 1681492902084
        }
      }
    },
    {
      "cell_type": "code",
      "source": [
        "formatted_messages = chat_prompt.format_prompt(context=content, query=question, top_n_results = top_n_results).to_messages()\r\n",
        "\r\n",
        "#print(formatted_messages[0].content)\r\n",
        "\r\n",
        "llm_chain = LLMChain(llm=chatmodel,prompt=chat_prompt)"
      ],
      "outputs": [],
      "execution_count": 88,
      "metadata": {
        "jupyter": {
          "source_hidden": false,
          "outputs_hidden": false
        },
        "nteract": {
          "transient": {
            "deleting": false
          }
        },
        "gather": {
          "logged": 1681492904268
        }
      }
    },
    {
      "cell_type": "code",
      "source": [
        "\r\n",
        "response = llm_chain.run(context=content, query=question, top_n_results = top_n_results)"
      ],
      "outputs": [
        {
          "output_type": "stream",
          "name": "stdout",
          "text": "This patient is not eligible for the clinical trials mentioned in the provided studies. The reason is that she is pregnant, which is listed as an exclusion criterion in Study NCT02403505 (https://clinicaltrials.gov/ct2/show/NCT02403505). The study specifically excludes pregnant individuals from participating."
        }
      ],
      "execution_count": 89,
      "metadata": {
        "jupyter": {
          "source_hidden": false,
          "outputs_hidden": false
        },
        "nteract": {
          "transient": {
            "deleting": false
          }
        },
        "gather": {
          "logged": 1681492910412
        }
      }
    },
    {
      "cell_type": "code",
      "source": [],
      "outputs": [],
      "execution_count": null,
      "metadata": {
        "jupyter": {
          "source_hidden": false,
          "outputs_hidden": false
        },
        "nteract": {
          "transient": {
            "deleting": false
          }
        }
      }
    }
  ],
  "metadata": {
    "kernelspec": {
      "name": "python310-sdkv2",
      "language": "python",
      "display_name": "Python 3.10 - SDK v2"
    },
    "language_info": {
      "name": "python",
      "version": "3.10.9",
      "mimetype": "text/x-python",
      "codemirror_mode": {
        "name": "ipython",
        "version": 3
      },
      "pygments_lexer": "ipython3",
      "nbconvert_exporter": "python",
      "file_extension": ".py"
    },
    "microsoft": {
      "ms_spell_check": {
        "ms_spell_check_language": "en"
      },
      "host": {
        "AzureML": {
          "notebookHasBeenCompleted": true
        }
      }
    },
    "kernel_info": {
      "name": "python310-sdkv2"
    },
    "nteract": {
      "version": "nteract-front-end@1.0.0"
    }
  },
  "nbformat": 4,
  "nbformat_minor": 2
}
